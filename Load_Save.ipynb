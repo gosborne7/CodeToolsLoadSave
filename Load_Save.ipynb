{
  "nbformat": 4,
  "nbformat_minor": 0,
  "metadata": {
    "colab": {
      "provenance": []
    },
    "kernelspec": {
      "name": "python3",
      "display_name": "Python 3"
    },
    "language_info": {
      "name": "python"
    },
    "accelerator": "GPU",
    "gpuClass": "standard"
  },
  "cells": [
    {
      "cell_type": "code",
      "execution_count": 6,
      "metadata": {
        "id": "DBk6SlOwVHX2"
      },
      "outputs": [],
      "source": [
        "#pip install pyyaml h5py  # Required to save models in HDF5 format"
      ]
    },
    {
      "cell_type": "code",
      "source": [
        "import os\n",
        "\n",
        "import tensorflow as tf\n",
        "from tensorflow import keras\n",
        "\n",
        "print(tf.version.VERSION)"
      ],
      "metadata": {
        "colab": {
          "base_uri": "https://localhost:8080/"
        },
        "id": "tzpJJc4N__Ao",
        "outputId": "a41e8d63-72a9-4529-c982-30ae863e625b"
      },
      "execution_count": 7,
      "outputs": [
        {
          "output_type": "stream",
          "name": "stdout",
          "text": [
            "2.9.2\n"
          ]
        }
      ]
    },
    {
      "cell_type": "code",
      "source": [
        "(train_images, train_labels), (test_images, test_labels) = tf.keras.datasets.mnist.load_data()\n",
        "\n",
        "train_labels = train_labels[:1000]\n",
        "test_labels = test_labels[:1000]\n",
        "\n",
        "train_images = train_images[:1000].reshape(-1, 28 * 28) / 255.0\n",
        "test_images = test_images[:1000].reshape(-1, 28 * 28) / 255.0"
      ],
      "metadata": {
        "id": "O91rT7gFAKZJ"
      },
      "execution_count": 8,
      "outputs": []
    },
    {
      "cell_type": "code",
      "source": [
        "# Define a simple sequential model\n",
        "def create_model():\n",
        "  model = tf.keras.Sequential([\n",
        "    keras.layers.Dense(512, activation='relu', input_shape=(784,)),\n",
        "    keras.layers.Dropout(0.2),\n",
        "    keras.layers.Dense(10)\n",
        "  ])\n",
        "\n",
        "  model.compile(optimizer='adam',\n",
        "                loss=tf.keras.losses.SparseCategoricalCrossentropy(from_logits=True),\n",
        "                metrics=[tf.keras.metrics.SparseCategoricalAccuracy()])\n",
        "\n",
        "  return model\n",
        "\n",
        "# Create a basic model instance\n",
        "model = create_model()\n",
        "\n",
        "# Display the model's architecture\n",
        "model.summary()"
      ],
      "metadata": {
        "colab": {
          "base_uri": "https://localhost:8080/"
        },
        "id": "jTfA-W3QAQMG",
        "outputId": "5358d6bb-3488-444a-8cec-82ad8a2061a3"
      },
      "execution_count": 9,
      "outputs": [
        {
          "output_type": "stream",
          "name": "stdout",
          "text": [
            "Model: \"sequential\"\n",
            "_________________________________________________________________\n",
            " Layer (type)                Output Shape              Param #   \n",
            "=================================================================\n",
            " dense (Dense)               (None, 512)               401920    \n",
            "                                                                 \n",
            " dropout (Dropout)           (None, 512)               0         \n",
            "                                                                 \n",
            " dense_1 (Dense)             (None, 10)                5130      \n",
            "                                                                 \n",
            "=================================================================\n",
            "Total params: 407,050\n",
            "Trainable params: 407,050\n",
            "Non-trainable params: 0\n",
            "_________________________________________________________________\n"
          ]
        }
      ]
    },
    {
      "cell_type": "code",
      "source": [
        "checkpoint_path = \"training_1/cp.ckpt\"\n",
        "checkpoint_dir = os.path.dirname(checkpoint_path)\n",
        "\n",
        "# Create a callback that saves the model's weights\n",
        "cp_callback = tf.keras.callbacks.ModelCheckpoint(filepath=checkpoint_path,\n",
        "                                                 save_weights_only=True,\n",
        "                                                 verbose=1)\n",
        "\n",
        "# Train the model with the new callback\n",
        "model.fit(train_images, \n",
        "          train_labels,  \n",
        "          epochs=10,\n",
        "          validation_data=(test_images, test_labels),\n",
        "          callbacks=[cp_callback])  # Pass callback to training\n",
        "\n",
        "# This may generate warnings related to saving the state of the optimizer.\n",
        "# These warnings (and similar warnings throughout this notebook)\n",
        "# are in place to discourage outdated usage, and can be ignored."
      ],
      "metadata": {
        "colab": {
          "base_uri": "https://localhost:8080/"
        },
        "id": "sliKPHQGAbP8",
        "outputId": "b20629fa-6b9c-478a-9699-d862f112f806"
      },
      "execution_count": 10,
      "outputs": [
        {
          "output_type": "stream",
          "name": "stdout",
          "text": [
            "Epoch 1/10\n",
            "22/32 [===================>..........] - ETA: 0s - loss: 1.3956 - sparse_categorical_accuracy: 0.6065  \n",
            "Epoch 1: saving model to training_1/cp.ckpt\n",
            "32/32 [==============================] - 3s 14ms/step - loss: 1.2061 - sparse_categorical_accuracy: 0.6610 - val_loss: 0.7163 - val_sparse_categorical_accuracy: 0.7920\n",
            "Epoch 2/10\n",
            "23/32 [====================>.........] - ETA: 0s - loss: 0.4286 - sparse_categorical_accuracy: 0.8832\n",
            "Epoch 2: saving model to training_1/cp.ckpt\n",
            "32/32 [==============================] - 0s 6ms/step - loss: 0.4282 - sparse_categorical_accuracy: 0.8810 - val_loss: 0.5266 - val_sparse_categorical_accuracy: 0.8430\n",
            "Epoch 3/10\n",
            "23/32 [====================>.........] - ETA: 0s - loss: 0.2922 - sparse_categorical_accuracy: 0.9226\n",
            "Epoch 3: saving model to training_1/cp.ckpt\n",
            "32/32 [==============================] - 0s 5ms/step - loss: 0.2870 - sparse_categorical_accuracy: 0.9270 - val_loss: 0.4831 - val_sparse_categorical_accuracy: 0.8470\n",
            "Epoch 4/10\n",
            "23/32 [====================>.........] - ETA: 0s - loss: 0.1945 - sparse_categorical_accuracy: 0.9565\n",
            "Epoch 4: saving model to training_1/cp.ckpt\n",
            "32/32 [==============================] - 0s 6ms/step - loss: 0.2026 - sparse_categorical_accuracy: 0.9490 - val_loss: 0.4333 - val_sparse_categorical_accuracy: 0.8590\n",
            "Epoch 5/10\n",
            "23/32 [====================>.........] - ETA: 0s - loss: 0.1355 - sparse_categorical_accuracy: 0.9742\n",
            "Epoch 5: saving model to training_1/cp.ckpt\n",
            "32/32 [==============================] - 0s 6ms/step - loss: 0.1491 - sparse_categorical_accuracy: 0.9690 - val_loss: 0.4455 - val_sparse_categorical_accuracy: 0.8620\n",
            "Epoch 6/10\n",
            "23/32 [====================>.........] - ETA: 0s - loss: 0.1255 - sparse_categorical_accuracy: 0.9796\n",
            "Epoch 6: saving model to training_1/cp.ckpt\n",
            "32/32 [==============================] - 0s 5ms/step - loss: 0.1179 - sparse_categorical_accuracy: 0.9810 - val_loss: 0.4379 - val_sparse_categorical_accuracy: 0.8510\n",
            "Epoch 7/10\n",
            "22/32 [===================>..........] - ETA: 0s - loss: 0.0936 - sparse_categorical_accuracy: 0.9872\n",
            "Epoch 7: saving model to training_1/cp.ckpt\n",
            "32/32 [==============================] - 0s 5ms/step - loss: 0.0903 - sparse_categorical_accuracy: 0.9860 - val_loss: 0.4324 - val_sparse_categorical_accuracy: 0.8590\n",
            "Epoch 8/10\n",
            "23/32 [====================>.........] - ETA: 0s - loss: 0.0652 - sparse_categorical_accuracy: 0.9959\n",
            "Epoch 8: saving model to training_1/cp.ckpt\n",
            "32/32 [==============================] - 0s 5ms/step - loss: 0.0738 - sparse_categorical_accuracy: 0.9910 - val_loss: 0.4181 - val_sparse_categorical_accuracy: 0.8670\n",
            "Epoch 9/10\n",
            "24/32 [=====================>........] - ETA: 0s - loss: 0.0565 - sparse_categorical_accuracy: 0.9935\n",
            "Epoch 9: saving model to training_1/cp.ckpt\n",
            "32/32 [==============================] - 0s 6ms/step - loss: 0.0529 - sparse_categorical_accuracy: 0.9940 - val_loss: 0.3997 - val_sparse_categorical_accuracy: 0.8660\n",
            "Epoch 10/10\n",
            "20/32 [=================>............] - ETA: 0s - loss: 0.0383 - sparse_categorical_accuracy: 0.9984\n",
            "Epoch 10: saving model to training_1/cp.ckpt\n",
            "32/32 [==============================] - 0s 6ms/step - loss: 0.0377 - sparse_categorical_accuracy: 0.9990 - val_loss: 0.4162 - val_sparse_categorical_accuracy: 0.8630\n"
          ]
        },
        {
          "output_type": "execute_result",
          "data": {
            "text/plain": [
              "<keras.callbacks.History at 0x7f1b766e3dc0>"
            ]
          },
          "metadata": {},
          "execution_count": 10
        }
      ]
    },
    {
      "cell_type": "code",
      "source": [
        "os.listdir(checkpoint_dir)"
      ],
      "metadata": {
        "colab": {
          "base_uri": "https://localhost:8080/"
        },
        "id": "WJ6joSlSAkeS",
        "outputId": "6e0b2e26-befe-42d2-be2e-9910e6845e3e"
      },
      "execution_count": 11,
      "outputs": [
        {
          "output_type": "execute_result",
          "data": {
            "text/plain": [
              "['checkpoint', 'cp.ckpt.index', 'cp.ckpt.data-00000-of-00001']"
            ]
          },
          "metadata": {},
          "execution_count": 11
        }
      ]
    },
    {
      "cell_type": "code",
      "source": [
        "# Create a basic model instance\n",
        "model = create_model()\n",
        "\n",
        "# Evaluate the model\n",
        "loss, acc = model.evaluate(test_images, test_labels, verbose=2)\n",
        "print(\"Untrained model, accuracy: {:5.2f}%\".format(100 * acc))"
      ],
      "metadata": {
        "colab": {
          "base_uri": "https://localhost:8080/"
        },
        "id": "D0arTDGLAuoQ",
        "outputId": "e99d6c8a-21c1-40b1-9a88-4b5983945b74"
      },
      "execution_count": 12,
      "outputs": [
        {
          "output_type": "stream",
          "name": "stdout",
          "text": [
            "32/32 - 0s - loss: 2.3426 - sparse_categorical_accuracy: 0.0710 - 132ms/epoch - 4ms/step\n",
            "Untrained model, accuracy:  7.10%\n"
          ]
        }
      ]
    },
    {
      "cell_type": "code",
      "source": [
        "# Loads the weights\n",
        "model.load_weights(checkpoint_path)\n",
        "\n",
        "# Re-evaluate the model\n",
        "loss, acc = model.evaluate(test_images, test_labels, verbose=2)\n",
        "print(\"Restored model, accuracy: {:5.2f}%\".format(100 * acc))"
      ],
      "metadata": {
        "colab": {
          "base_uri": "https://localhost:8080/"
        },
        "id": "XX2d2gY3A2_J",
        "outputId": "858eb03a-9e1d-400e-ce5b-74eeb4c9d1bd"
      },
      "execution_count": 13,
      "outputs": [
        {
          "output_type": "stream",
          "name": "stdout",
          "text": [
            "32/32 - 0s - loss: 0.4162 - sparse_categorical_accuracy: 0.8630 - 65ms/epoch - 2ms/step\n",
            "Restored model, accuracy: 86.30%\n"
          ]
        }
      ]
    },
    {
      "cell_type": "code",
      "source": [
        "# Include the epoch in the file name (uses `str.format`)\n",
        "checkpoint_path = \"training_2/cp-{epoch:04d}.ckpt\"\n",
        "checkpoint_dir = os.path.dirname(checkpoint_path)\n",
        "\n",
        "batch_size = 32\n",
        "\n",
        "# Create a callback that saves the model's weights every 5 epochs\n",
        "cp_callback = tf.keras.callbacks.ModelCheckpoint(\n",
        "    filepath=checkpoint_path, \n",
        "    verbose=1, \n",
        "    save_weights_only=True,\n",
        "    save_freq=5*batch_size)\n",
        "\n",
        "# Create a new model instance\n",
        "model = create_model()\n",
        "\n",
        "# Save the weights using the `checkpoint_path` format\n",
        "model.save_weights(checkpoint_path.format(epoch=0))\n",
        "\n",
        "# Train the model with the new callback\n",
        "model.fit(train_images, \n",
        "          train_labels,\n",
        "          epochs=50, \n",
        "          batch_size=batch_size, \n",
        "          callbacks=[cp_callback],\n",
        "          validation_data=(test_images, test_labels),\n",
        "          verbose=0)"
      ],
      "metadata": {
        "colab": {
          "base_uri": "https://localhost:8080/"
        },
        "id": "8CvUYEqCA_Ys",
        "outputId": "cca6effe-9852-4a37-ba02-7e9f09b17446"
      },
      "execution_count": 14,
      "outputs": [
        {
          "output_type": "stream",
          "name": "stdout",
          "text": [
            "\n",
            "Epoch 5: saving model to training_2/cp-0005.ckpt\n",
            "\n",
            "Epoch 10: saving model to training_2/cp-0010.ckpt\n",
            "\n",
            "Epoch 15: saving model to training_2/cp-0015.ckpt\n",
            "\n",
            "Epoch 20: saving model to training_2/cp-0020.ckpt\n",
            "\n",
            "Epoch 25: saving model to training_2/cp-0025.ckpt\n",
            "\n",
            "Epoch 30: saving model to training_2/cp-0030.ckpt\n",
            "\n",
            "Epoch 35: saving model to training_2/cp-0035.ckpt\n",
            "\n",
            "Epoch 40: saving model to training_2/cp-0040.ckpt\n",
            "\n",
            "Epoch 45: saving model to training_2/cp-0045.ckpt\n",
            "\n",
            "Epoch 50: saving model to training_2/cp-0050.ckpt\n"
          ]
        },
        {
          "output_type": "execute_result",
          "data": {
            "text/plain": [
              "<keras.callbacks.History at 0x7f1b763d3dc0>"
            ]
          },
          "metadata": {},
          "execution_count": 14
        }
      ]
    },
    {
      "cell_type": "code",
      "source": [
        "os.listdir(checkpoint_dir)"
      ],
      "metadata": {
        "colab": {
          "base_uri": "https://localhost:8080/"
        },
        "id": "AddFL8tjBGZc",
        "outputId": "48856bda-7236-46c6-ad10-6489975357ca"
      },
      "execution_count": 15,
      "outputs": [
        {
          "output_type": "execute_result",
          "data": {
            "text/plain": [
              "['cp-0025.ckpt.data-00000-of-00001',\n",
              " 'cp-0040.ckpt.data-00000-of-00001',\n",
              " 'cp-0020.ckpt.data-00000-of-00001',\n",
              " 'cp-0035.ckpt.data-00000-of-00001',\n",
              " 'cp-0040.ckpt.index',\n",
              " 'cp-0020.ckpt.index',\n",
              " 'cp-0030.ckpt.data-00000-of-00001',\n",
              " 'checkpoint',\n",
              " 'cp-0010.ckpt.data-00000-of-00001',\n",
              " 'cp-0000.ckpt.data-00000-of-00001',\n",
              " 'cp-0050.ckpt.data-00000-of-00001',\n",
              " 'cp-0000.ckpt.index',\n",
              " 'cp-0005.ckpt.index',\n",
              " 'cp-0045.ckpt.index',\n",
              " 'cp-0015.ckpt.data-00000-of-00001',\n",
              " 'cp-0025.ckpt.index',\n",
              " 'cp-0005.ckpt.data-00000-of-00001',\n",
              " 'cp-0050.ckpt.index',\n",
              " 'cp-0035.ckpt.index',\n",
              " 'cp-0010.ckpt.index',\n",
              " 'cp-0015.ckpt.index',\n",
              " 'cp-0030.ckpt.index',\n",
              " 'cp-0045.ckpt.data-00000-of-00001']"
            ]
          },
          "metadata": {},
          "execution_count": 15
        }
      ]
    },
    {
      "cell_type": "code",
      "source": [
        "latest = tf.train.latest_checkpoint(checkpoint_dir)\n",
        "latest"
      ],
      "metadata": {
        "colab": {
          "base_uri": "https://localhost:8080/",
          "height": 35
        },
        "id": "wcvitp4RBKb-",
        "outputId": "f590acb2-42b7-453e-87f3-4be2112b3e4e"
      },
      "execution_count": 16,
      "outputs": [
        {
          "output_type": "execute_result",
          "data": {
            "text/plain": [
              "'training_2/cp-0050.ckpt'"
            ],
            "application/vnd.google.colaboratory.intrinsic+json": {
              "type": "string"
            }
          },
          "metadata": {},
          "execution_count": 16
        }
      ]
    },
    {
      "cell_type": "code",
      "source": [
        "# Create a new model instance\n",
        "model = create_model()\n",
        "\n",
        "# Load the previously saved weights\n",
        "model.load_weights(latest)\n",
        "\n",
        "# Re-evaluate the model\n",
        "loss, acc = model.evaluate(test_images, test_labels, verbose=2)\n",
        "print(\"Restored model, accuracy: {:5.2f}%\".format(100 * acc))"
      ],
      "metadata": {
        "colab": {
          "base_uri": "https://localhost:8080/"
        },
        "id": "Ag2ti-DvBRSU",
        "outputId": "72758780-ac75-4999-8994-f0e1562599ae"
      },
      "execution_count": 17,
      "outputs": [
        {
          "output_type": "stream",
          "name": "stdout",
          "text": [
            "32/32 - 0s - loss: 0.4824 - sparse_categorical_accuracy: 0.8800 - 138ms/epoch - 4ms/step\n",
            "Restored model, accuracy: 88.00%\n"
          ]
        }
      ]
    },
    {
      "cell_type": "code",
      "source": [
        "# Save the weights\n",
        "model.save_weights('./checkpoints/my_checkpoint')\n",
        "\n",
        "# Create a new model instance\n",
        "model = create_model()\n",
        "\n",
        "# Restore the weights\n",
        "model.load_weights('./checkpoints/my_checkpoint')\n",
        "\n",
        "# Evaluate the model\n",
        "loss, acc = model.evaluate(test_images, test_labels, verbose=2)\n",
        "print(\"Restored model, accuracy: {:5.2f}%\".format(100 * acc))"
      ],
      "metadata": {
        "colab": {
          "base_uri": "https://localhost:8080/"
        },
        "id": "zAFEfD-FBe9m",
        "outputId": "1b45b730-c533-49c3-e090-b8f1e7a2f46a"
      },
      "execution_count": 18,
      "outputs": [
        {
          "output_type": "stream",
          "name": "stdout",
          "text": [
            "32/32 - 0s - loss: 0.4824 - sparse_categorical_accuracy: 0.8800 - 143ms/epoch - 4ms/step\n",
            "Restored model, accuracy: 88.00%\n"
          ]
        }
      ]
    },
    {
      "cell_type": "code",
      "source": [
        "# Create and train a new model instance.\n",
        "model = create_model()\n",
        "model.fit(train_images, train_labels, epochs=5)\n",
        "\n",
        "# Save the entire model as a SavedModel.\n",
        "!mkdir -p saved_model\n",
        "model.save('saved_model/my_model')"
      ],
      "metadata": {
        "colab": {
          "base_uri": "https://localhost:8080/"
        },
        "id": "XJBn7mWLBv2E",
        "outputId": "2b497a02-3c5f-4cc3-d2db-efb61aa30a1b"
      },
      "execution_count": 19,
      "outputs": [
        {
          "output_type": "stream",
          "name": "stdout",
          "text": [
            "Epoch 1/5\n",
            "32/32 [==============================] - 0s 2ms/step - loss: 1.1570 - sparse_categorical_accuracy: 0.6660\n",
            "Epoch 2/5\n",
            "32/32 [==============================] - 0s 3ms/step - loss: 0.4425 - sparse_categorical_accuracy: 0.8850\n",
            "Epoch 3/5\n",
            "32/32 [==============================] - 0s 2ms/step - loss: 0.2749 - sparse_categorical_accuracy: 0.9290\n",
            "Epoch 4/5\n",
            "32/32 [==============================] - 0s 3ms/step - loss: 0.2119 - sparse_categorical_accuracy: 0.9580\n",
            "Epoch 5/5\n",
            "32/32 [==============================] - 0s 2ms/step - loss: 0.1564 - sparse_categorical_accuracy: 0.9680\n"
          ]
        }
      ]
    },
    {
      "cell_type": "code",
      "source": [
        "# my_model directory\n",
        "!ls saved_model\n",
        "\n",
        "# Contains an assets folder, saved_model.pb, and variables folder.\n",
        "!ls saved_model/my_model"
      ],
      "metadata": {
        "colab": {
          "base_uri": "https://localhost:8080/"
        },
        "id": "AktQCFsjB9Jp",
        "outputId": "2308c19a-1563-4904-f41e-8be45021f068"
      },
      "execution_count": 20,
      "outputs": [
        {
          "output_type": "stream",
          "name": "stdout",
          "text": [
            "my_model\n",
            "assets\tkeras_metadata.pb  saved_model.pb  variables\n"
          ]
        }
      ]
    },
    {
      "cell_type": "code",
      "source": [
        "new_model = tf.keras.models.load_model('saved_model/my_model')\n",
        "\n",
        "# Check its architecture\n",
        "new_model.summary()"
      ],
      "metadata": {
        "colab": {
          "base_uri": "https://localhost:8080/"
        },
        "id": "xEssI4dkCHoq",
        "outputId": "d2845be3-0b53-4ac5-a403-c859dd5c6156"
      },
      "execution_count": 21,
      "outputs": [
        {
          "output_type": "stream",
          "name": "stdout",
          "text": [
            "Model: \"sequential_5\"\n",
            "_________________________________________________________________\n",
            " Layer (type)                Output Shape              Param #   \n",
            "=================================================================\n",
            " dense_10 (Dense)            (None, 512)               401920    \n",
            "                                                                 \n",
            " dropout_5 (Dropout)         (None, 512)               0         \n",
            "                                                                 \n",
            " dense_11 (Dense)            (None, 10)                5130      \n",
            "                                                                 \n",
            "=================================================================\n",
            "Total params: 407,050\n",
            "Trainable params: 407,050\n",
            "Non-trainable params: 0\n",
            "_________________________________________________________________\n"
          ]
        }
      ]
    },
    {
      "cell_type": "code",
      "source": [
        "# Evaluate the restored model\n",
        "loss, acc = new_model.evaluate(test_images, test_labels, verbose=2)\n",
        "print('Restored model, accuracy: {:5.2f}%'.format(100 * acc))\n",
        "\n",
        "print(new_model.predict(test_images).shape)"
      ],
      "metadata": {
        "colab": {
          "base_uri": "https://localhost:8080/"
        },
        "id": "tJWec7SQCNR3",
        "outputId": "96d04cc3-deba-4386-bed8-d95bfc00c766"
      },
      "execution_count": 22,
      "outputs": [
        {
          "output_type": "stream",
          "name": "stdout",
          "text": [
            "32/32 - 0s - loss: 0.4274 - sparse_categorical_accuracy: 0.8660 - 148ms/epoch - 5ms/step\n",
            "Restored model, accuracy: 86.60%\n",
            "32/32 [==============================] - 0s 1ms/step\n",
            "(1000, 10)\n"
          ]
        }
      ]
    },
    {
      "cell_type": "code",
      "source": [
        "# Create and train a new model instance.\n",
        "model = create_model()\n",
        "model.fit(train_images, train_labels, epochs=5)\n",
        "\n",
        "# Save the entire model to a HDF5 file.\n",
        "# The '.h5' extension indicates that the model should be saved to HDF5.\n",
        "model.save('my_model.h5')"
      ],
      "metadata": {
        "colab": {
          "base_uri": "https://localhost:8080/"
        },
        "id": "jK2KztGoCReP",
        "outputId": "5f0917e6-cf93-4e19-f20f-751e586fe417"
      },
      "execution_count": 23,
      "outputs": [
        {
          "output_type": "stream",
          "name": "stdout",
          "text": [
            "Epoch 1/5\n",
            "32/32 [==============================] - 0s 2ms/step - loss: 1.1716 - sparse_categorical_accuracy: 0.6620\n",
            "Epoch 2/5\n",
            "32/32 [==============================] - 0s 2ms/step - loss: 0.4267 - sparse_categorical_accuracy: 0.8840\n",
            "Epoch 3/5\n",
            "32/32 [==============================] - 0s 2ms/step - loss: 0.2855 - sparse_categorical_accuracy: 0.9300\n",
            "Epoch 4/5\n",
            "32/32 [==============================] - 0s 2ms/step - loss: 0.1984 - sparse_categorical_accuracy: 0.9560\n",
            "Epoch 5/5\n",
            "32/32 [==============================] - 0s 3ms/step - loss: 0.1511 - sparse_categorical_accuracy: 0.9700\n"
          ]
        }
      ]
    },
    {
      "cell_type": "code",
      "source": [
        "# Recreate the exact same model, including its weights and the optimizer\n",
        "new_model = tf.keras.models.load_model('my_model.h5')\n",
        "\n",
        "# Show the model architecture\n",
        "new_model.summary()"
      ],
      "metadata": {
        "colab": {
          "base_uri": "https://localhost:8080/"
        },
        "id": "-h-JbPcgCXAn",
        "outputId": "5d4102fa-8e1e-494e-c2bf-af8526442f00"
      },
      "execution_count": 24,
      "outputs": [
        {
          "output_type": "stream",
          "name": "stdout",
          "text": [
            "Model: \"sequential_6\"\n",
            "_________________________________________________________________\n",
            " Layer (type)                Output Shape              Param #   \n",
            "=================================================================\n",
            " dense_12 (Dense)            (None, 512)               401920    \n",
            "                                                                 \n",
            " dropout_6 (Dropout)         (None, 512)               0         \n",
            "                                                                 \n",
            " dense_13 (Dense)            (None, 10)                5130      \n",
            "                                                                 \n",
            "=================================================================\n",
            "Total params: 407,050\n",
            "Trainable params: 407,050\n",
            "Non-trainable params: 0\n",
            "_________________________________________________________________\n"
          ]
        }
      ]
    },
    {
      "cell_type": "code",
      "source": [
        "loss, acc = new_model.evaluate(test_images, test_labels, verbose=2)\n",
        "print('Restored model, accuracy: {:5.2f}%'.format(100 * acc))\n",
        "\n"
      ],
      "metadata": {
        "colab": {
          "base_uri": "https://localhost:8080/"
        },
        "id": "73mx3MIICdVR",
        "outputId": "0ad03fc0-6ec8-487f-feb7-9cdc0124a06f"
      },
      "execution_count": 25,
      "outputs": [
        {
          "output_type": "stream",
          "name": "stdout",
          "text": [
            "32/32 - 0s - loss: 0.4222 - sparse_categorical_accuracy: 0.8620 - 135ms/epoch - 4ms/step\n",
            "Restored model, accuracy: 86.20%\n"
          ]
        }
      ]
    }
  ]
}